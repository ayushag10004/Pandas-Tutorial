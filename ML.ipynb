{
  "nbformat": 4,
  "nbformat_minor": 0,
  "metadata": {
    "colab": {
      "name": "ML",
      "version": "0.3.2",
      "provenance": [],
      "include_colab_link": true
    },
    "kernelspec": {
      "name": "python3",
      "display_name": "Python 3"
    }
  },
  "cells": [
    {
      "cell_type": "markdown",
      "metadata": {
        "id": "view-in-github",
        "colab_type": "text"
      },
      "source": [
        "<a href=\"https://colab.research.google.com/github/ayushag10004/Pandas-Tutorial/blob/master/ML.ipynb\" target=\"_parent\"><img src=\"https://colab.research.google.com/assets/colab-badge.svg\" alt=\"Open In Colab\"/></a>"
      ]
    },
    {
      "metadata": {
        "id": "FKkkP_22nSnJ",
        "colab_type": "code",
        "colab": {}
      },
      "cell_type": "code",
      "source": [
        "import pandas as pd\n",
        "import numpy as np"
      ],
      "execution_count": 0,
      "outputs": []
    },
    {
      "metadata": {
        "id": "UPbukCmTn3JX",
        "colab_type": "code",
        "outputId": "18364db0-7ed8-4a7e-ce3a-46fd313cda5d",
        "colab": {
          "base_uri": "https://localhost:8080/",
          "height": 362
        }
      },
      "cell_type": "code",
      "source": [
        "data = pd.read_excel('All_IPL_Match_Scores_raw.xlsx',sheet_name='All_IPL_Data')\n",
        "data.head()"
      ],
      "execution_count": 0,
      "outputs": [
        {
          "output_type": "execute_result",
          "data": {
            "text/html": [
              "<div>\n",
              "<style scoped>\n",
              "    .dataframe tbody tr th:only-of-type {\n",
              "        vertical-align: middle;\n",
              "    }\n",
              "\n",
              "    .dataframe tbody tr th {\n",
              "        vertical-align: top;\n",
              "    }\n",
              "\n",
              "    .dataframe thead th {\n",
              "        text-align: right;\n",
              "    }\n",
              "</style>\n",
              "<table border=\"1\" class=\"dataframe\">\n",
              "  <thead>\n",
              "    <tr style=\"text-align: right;\">\n",
              "      <th></th>\n",
              "      <th>Match_Number</th>\n",
              "      <th>Match</th>\n",
              "      <th>Date</th>\n",
              "      <th>Year</th>\n",
              "      <th>Venue</th>\n",
              "      <th>Team_Batting_First</th>\n",
              "      <th>Team_Batting_Second</th>\n",
              "      <th>Bat_First_Runs_Scored</th>\n",
              "      <th>Bat_First_Wickets_Lost</th>\n",
              "      <th>Bat_First_Overs_Consumed</th>\n",
              "      <th>...</th>\n",
              "      <th>Bat_Second_10_ov_score</th>\n",
              "      <th>Bat_Second_10_ov_wkts_lost</th>\n",
              "      <th>Bat_Second_10_ov_Req_RR</th>\n",
              "      <th>Bat_Second_15_ov_score</th>\n",
              "      <th>Bat_Second_15_ov_wkts_lost</th>\n",
              "      <th>Bat_Second_15_ov_Req_RR</th>\n",
              "      <th>Bat_Second_20_ov_score</th>\n",
              "      <th>Bat_Second_20_ov_wkts_lost</th>\n",
              "      <th>Match_Time</th>\n",
              "      <th>Duckworth Lewis Used</th>\n",
              "    </tr>\n",
              "  </thead>\n",
              "  <tbody>\n",
              "    <tr>\n",
              "      <th>0</th>\n",
              "      <td>1</td>\n",
              "      <td>League Match</td>\n",
              "      <td>Apr 18</td>\n",
              "      <td>2008</td>\n",
              "      <td>Bangalore</td>\n",
              "      <td>Kolkata</td>\n",
              "      <td>Bangalore</td>\n",
              "      <td>222</td>\n",
              "      <td>3</td>\n",
              "      <td>20.0</td>\n",
              "      <td>...</td>\n",
              "      <td>51.0</td>\n",
              "      <td>7.0</td>\n",
              "      <td>17.2</td>\n",
              "      <td>81.0</td>\n",
              "      <td>9.0</td>\n",
              "      <td>28.4</td>\n",
              "      <td>NaN</td>\n",
              "      <td>NaN</td>\n",
              "      <td>Evening</td>\n",
              "      <td>NaN</td>\n",
              "    </tr>\n",
              "    <tr>\n",
              "      <th>1</th>\n",
              "      <td>2</td>\n",
              "      <td>League Match</td>\n",
              "      <td>Apr 19</td>\n",
              "      <td>2008</td>\n",
              "      <td>Mohali</td>\n",
              "      <td>Chennai</td>\n",
              "      <td>Punjab</td>\n",
              "      <td>240</td>\n",
              "      <td>5</td>\n",
              "      <td>20.0</td>\n",
              "      <td>...</td>\n",
              "      <td>110.0</td>\n",
              "      <td>1.0</td>\n",
              "      <td>13.1</td>\n",
              "      <td>165.0</td>\n",
              "      <td>3.0</td>\n",
              "      <td>15.2</td>\n",
              "      <td>207.0</td>\n",
              "      <td>4.0</td>\n",
              "      <td>Afternoon</td>\n",
              "      <td>NaN</td>\n",
              "    </tr>\n",
              "    <tr>\n",
              "      <th>2</th>\n",
              "      <td>3</td>\n",
              "      <td>League Match</td>\n",
              "      <td>Apr 19</td>\n",
              "      <td>2008</td>\n",
              "      <td>Delhi</td>\n",
              "      <td>Rajasthan</td>\n",
              "      <td>Delhi</td>\n",
              "      <td>129</td>\n",
              "      <td>8</td>\n",
              "      <td>20.0</td>\n",
              "      <td>...</td>\n",
              "      <td>86.0</td>\n",
              "      <td>1.0</td>\n",
              "      <td>4.4</td>\n",
              "      <td>128.0</td>\n",
              "      <td>1.0</td>\n",
              "      <td>0.4</td>\n",
              "      <td>NaN</td>\n",
              "      <td>NaN</td>\n",
              "      <td>Evening</td>\n",
              "      <td>NaN</td>\n",
              "    </tr>\n",
              "    <tr>\n",
              "      <th>3</th>\n",
              "      <td>4</td>\n",
              "      <td>League Match</td>\n",
              "      <td>Apr 20</td>\n",
              "      <td>2008</td>\n",
              "      <td>Kolkata</td>\n",
              "      <td>Hyderabad</td>\n",
              "      <td>Kolkata</td>\n",
              "      <td>110</td>\n",
              "      <td>10</td>\n",
              "      <td>18.4</td>\n",
              "      <td>...</td>\n",
              "      <td>38.0</td>\n",
              "      <td>3.0</td>\n",
              "      <td>7.3</td>\n",
              "      <td>81.0</td>\n",
              "      <td>4.0</td>\n",
              "      <td>6.0</td>\n",
              "      <td>NaN</td>\n",
              "      <td>NaN</td>\n",
              "      <td>Afternoon</td>\n",
              "      <td>NaN</td>\n",
              "    </tr>\n",
              "    <tr>\n",
              "      <th>4</th>\n",
              "      <td>5</td>\n",
              "      <td>League Match</td>\n",
              "      <td>Apr 20</td>\n",
              "      <td>2008</td>\n",
              "      <td>Mumbai</td>\n",
              "      <td>Mumbai</td>\n",
              "      <td>Bangalore</td>\n",
              "      <td>165</td>\n",
              "      <td>6</td>\n",
              "      <td>20.0</td>\n",
              "      <td>...</td>\n",
              "      <td>76.0</td>\n",
              "      <td>3.0</td>\n",
              "      <td>9.0</td>\n",
              "      <td>118.0</td>\n",
              "      <td>4.0</td>\n",
              "      <td>9.6</td>\n",
              "      <td>166.0</td>\n",
              "      <td>5.0</td>\n",
              "      <td>Evening</td>\n",
              "      <td>NaN</td>\n",
              "    </tr>\n",
              "  </tbody>\n",
              "</table>\n",
              "<p>5 rows × 43 columns</p>\n",
              "</div>"
            ],
            "text/plain": [
              "   Match_Number         Match    Date  Year      Venue Team_Batting_First  \\\n",
              "0             1  League Match  Apr 18  2008  Bangalore            Kolkata   \n",
              "1             2  League Match  Apr 19  2008     Mohali            Chennai   \n",
              "2             3  League Match  Apr 19  2008      Delhi          Rajasthan   \n",
              "3             4  League Match  Apr 20  2008    Kolkata          Hyderabad   \n",
              "4             5  League Match  Apr 20  2008     Mumbai             Mumbai   \n",
              "\n",
              "  Team_Batting_Second  Bat_First_Runs_Scored  Bat_First_Wickets_Lost  \\\n",
              "0           Bangalore                    222                       3   \n",
              "1              Punjab                    240                       5   \n",
              "2               Delhi                    129                       8   \n",
              "3             Kolkata                    110                      10   \n",
              "4           Bangalore                    165                       6   \n",
              "\n",
              "   Bat_First_Overs_Consumed          ...           Bat_Second_10_ov_score  \\\n",
              "0                      20.0          ...                             51.0   \n",
              "1                      20.0          ...                            110.0   \n",
              "2                      20.0          ...                             86.0   \n",
              "3                      18.4          ...                             38.0   \n",
              "4                      20.0          ...                             76.0   \n",
              "\n",
              "   Bat_Second_10_ov_wkts_lost  Bat_Second_10_ov_Req_RR  \\\n",
              "0                         7.0                     17.2   \n",
              "1                         1.0                     13.1   \n",
              "2                         1.0                      4.4   \n",
              "3                         3.0                      7.3   \n",
              "4                         3.0                      9.0   \n",
              "\n",
              "   Bat_Second_15_ov_score  Bat_Second_15_ov_wkts_lost Bat_Second_15_ov_Req_RR  \\\n",
              "0                    81.0                         9.0                    28.4   \n",
              "1                   165.0                         3.0                    15.2   \n",
              "2                   128.0                         1.0                     0.4   \n",
              "3                    81.0                         4.0                     6.0   \n",
              "4                   118.0                         4.0                     9.6   \n",
              "\n",
              "  Bat_Second_20_ov_score  Bat_Second_20_ov_wkts_lost Match_Time  \\\n",
              "0                    NaN                         NaN    Evening   \n",
              "1                  207.0                         4.0  Afternoon   \n",
              "2                    NaN                         NaN    Evening   \n",
              "3                    NaN                         NaN  Afternoon   \n",
              "4                  166.0                         5.0    Evening   \n",
              "\n",
              "   Duckworth Lewis Used  \n",
              "0                   NaN  \n",
              "1                   NaN  \n",
              "2                   NaN  \n",
              "3                   NaN  \n",
              "4                   NaN  \n",
              "\n",
              "[5 rows x 43 columns]"
            ]
          },
          "metadata": {
            "tags": []
          },
          "execution_count": 17
        }
      ]
    },
    {
      "metadata": {
        "id": "ldyTyjfkpScH",
        "colab_type": "code",
        "outputId": "03c55bdc-bd98-4253-9e4c-6282405e81e5",
        "colab": {
          "base_uri": "https://localhost:8080/",
          "height": 34
        }
      },
      "cell_type": "code",
      "source": [
        "type(data[['Date','Year']])"
      ],
      "execution_count": 0,
      "outputs": [
        {
          "output_type": "execute_result",
          "data": {
            "text/plain": [
              "pandas.core.frame.DataFrame"
            ]
          },
          "metadata": {
            "tags": []
          },
          "execution_count": 18
        }
      ]
    },
    {
      "metadata": {
        "id": "v28x8ITwpSiJ",
        "colab_type": "code",
        "outputId": "224375db-7d51-4f2e-cb68-2bf1c2887486",
        "colab": {
          "base_uri": "https://localhost:8080/",
          "height": 130
        }
      },
      "cell_type": "code",
      "source": [
        "data.dropna()"
      ],
      "execution_count": 0,
      "outputs": [
        {
          "output_type": "execute_result",
          "data": {
            "text/html": [
              "<div>\n",
              "<style scoped>\n",
              "    .dataframe tbody tr th:only-of-type {\n",
              "        vertical-align: middle;\n",
              "    }\n",
              "\n",
              "    .dataframe tbody tr th {\n",
              "        vertical-align: top;\n",
              "    }\n",
              "\n",
              "    .dataframe thead th {\n",
              "        text-align: right;\n",
              "    }\n",
              "</style>\n",
              "<table border=\"1\" class=\"dataframe\">\n",
              "  <thead>\n",
              "    <tr style=\"text-align: right;\">\n",
              "      <th></th>\n",
              "      <th>Match_Number</th>\n",
              "      <th>Match</th>\n",
              "      <th>Date</th>\n",
              "      <th>Year</th>\n",
              "      <th>Venue</th>\n",
              "      <th>Team_Batting_First</th>\n",
              "      <th>Team_Batting_Second</th>\n",
              "      <th>Bat_First_Runs_Scored</th>\n",
              "      <th>Bat_First_Wickets_Lost</th>\n",
              "      <th>Bat_First_Overs_Consumed</th>\n",
              "      <th>...</th>\n",
              "      <th>Bat_Second_10_ov_score</th>\n",
              "      <th>Bat_Second_10_ov_wkts_lost</th>\n",
              "      <th>Bat_Second_10_ov_Req_RR</th>\n",
              "      <th>Bat_Second_15_ov_score</th>\n",
              "      <th>Bat_Second_15_ov_wkts_lost</th>\n",
              "      <th>Bat_Second_15_ov_Req_RR</th>\n",
              "      <th>Bat_Second_20_ov_score</th>\n",
              "      <th>Bat_Second_20_ov_wkts_lost</th>\n",
              "      <th>Match_Time</th>\n",
              "      <th>Duckworth Lewis Used</th>\n",
              "    </tr>\n",
              "  </thead>\n",
              "  <tbody>\n",
              "  </tbody>\n",
              "</table>\n",
              "<p>0 rows × 43 columns</p>\n",
              "</div>"
            ],
            "text/plain": [
              "Empty DataFrame\n",
              "Columns: [Match_Number, Match, Date, Year, Venue, Team_Batting_First, Team_Batting_Second, Bat_First_Runs_Scored, Bat_First_Wickets_Lost, Bat_First_Overs_Consumed, Bat_First_Overs_Allocated, Bat_Second_Runs_Scored, Bat_Second_Wickets_Lost, Bat_Second_Overs_Consumed, Bat_Second_Overs_Allocated, Winner, Winning_Team, Winning_Margin, Win_Type, Bat_First_Run_Rate, Bat_Second_Run_Rate, Balls_Remaining, Bat_First_5_ov_score, Bat_First_5_ov_wkts_lost, Bat_First_10_ov_score, Bat_First_10_ov_wkts_lost, Bat_First_15_ov_score, Bat_First_15_ov_wkts_lost, Bat_First_20_ov_score, Bat_First_20_ov_wkts_lost, Bat_Second_5_ov_score, Bat_Second_5_ov_wkts_lost, Bat_Second_5_ov_Req_RR, Bat_Second_10_ov_score, Bat_Second_10_ov_wkts_lost, Bat_Second_10_ov_Req_RR, Bat_Second_15_ov_score, Bat_Second_15_ov_wkts_lost, Bat_Second_15_ov_Req_RR, Bat_Second_20_ov_score, Bat_Second_20_ov_wkts_lost, Match_Time, Duckworth Lewis Used]\n",
              "Index: []\n",
              "\n",
              "[0 rows x 43 columns]"
            ]
          },
          "metadata": {
            "tags": []
          },
          "execution_count": 22
        }
      ]
    },
    {
      "metadata": {
        "id": "LSvHR1Chn8tB",
        "colab_type": "code",
        "colab": {}
      },
      "cell_type": "code",
      "source": [
        ""
      ],
      "execution_count": 0,
      "outputs": []
    }
  ]
}